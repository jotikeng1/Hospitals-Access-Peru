{
 "cells": [
  {
   "cell_type": "markdown",
   "id": "3dd8a696",
   "metadata": {},
   "source": [
    "\n",
    "# Tarea 3 – Proximity Analysis con Centros Poblados (Lima & Loreto)\n",
    "\n",
    "**Objetivo:** Calcular, para cada Centro Poblado (CCPP), cuántos **hospitales operativos** hay en un **radio de 10 km** y encontrar por departamento (Lima, Loreto) el CCPP con **menos** y **más** hospitales cerca. Visualizar cada caso con **Folium** (centroide, círculo 10 km y hospitales dentro).\n"
   ]
  },
  {
   "cell_type": "code",
   "execution_count": 41,
   "id": "d1d239fb",
   "metadata": {},
   "outputs": [],
   "source": [
    "\n",
    "import os, warnings, unicodedata\n",
    "import pandas as pd\n",
    "import geopandas as gpd\n",
    "import matplotlib.pyplot as plt\n",
    "\n",
    "try:\n",
    "    import folium\n",
    "except ImportError:\n",
    "    import sys\n",
    "    !\"{sys.executable}\" -m pip install folium\n",
    "    import folium\n",
    "\n",
    "warnings.filterwarnings(\"ignore\", category=UserWarning)\n",
    "pd.set_option(\"display.max_colwidth\", 120)\n"
   ]
  },
  {
   "cell_type": "markdown",
   "id": "1ee6c559",
   "metadata": {},
   "source": [
    "\n",
    "## Parámetros (ajusta rutas)\n"
   ]
  },
  {
   "cell_type": "code",
   "execution_count": 42,
   "id": "27dc5a18",
   "metadata": {},
   "outputs": [
    {
     "name": "stdout",
     "output_type": "stream",
     "text": [
      "OUT_DIR -> C:\\Users\\User\\Documents\\PROFE_CHRISTIAN\\Hospitals-Access-Peru\\output\n",
      "Usando shapefile de CCPP: C:\\Users\\User\\Documents\\PROFE_CHRISTIAN\\Hospitals-Access-Peru\\code\\shape_file_CP\\CCPP_IGN100K.shp\n"
     ]
    }
   ],
   "source": [
    "# === Parámetros (actualiza esta celda) ===\n",
    "import os, glob\n",
    "from pathlib import Path\n",
    "\n",
    "USAR_URL_IPRESS = True\n",
    "URL_IPRESS = \"https://datosabiertos.gob.pe/node/2998/download\"\n",
    "\n",
    "# Si usaras IPRESS local:\n",
    "RUTA_IPRESS_LOCAL = r\"C:\\ruta\\a\\IPRESS.csv\"\n",
    "\n",
    "# ---- Centros Poblados (INEI) ----\n",
    "# Tu carpeta real con los shapes de CCPP:\n",
    "CARPETA_CCPP = r\"C:\\Users\\User\\Documents\\PROFE_CHRISTIAN\\Hospitals-Access-Peru\\code\\shape_file_CP\"\n",
    "\n",
    "# Auto-detecta el .shp dentro de esa carpeta\n",
    "candidatos = glob.glob(os.path.join(CARPETA_CCPP, \"*.shp\"))\n",
    "if not candidatos:\n",
    "    raise FileNotFoundError(f\"No encontré ningún .shp en: {CARPETA_CCPP}\")\n",
    "\n",
    "# Si hay varios, intenta preferir nombres que contengan 'centro', 'pob' o 'ccpp'\n",
    "preferidos = [c for c in candidatos if any(k in os.path.basename(c).lower() for k in (\"centro\", \"pob\", \"ccpp\"))]\n",
    "RUTA_CCPP = preferidos[0] if preferidos else candidatos[0]\n",
    "\n",
    "# (Solo para GeoPackage .gpkg: define la capa. Aquí usamos .shp, así que None)\n",
    "CAPA_CCPP = None\n",
    "\n",
    "# Departamentos a analizar\n",
    "DEPARTAMENTOS = [\"LIMA\", \"LORETO\"]\n",
    "\n",
    "# Carpeta de salida\n",
    "OUT_DIR = Path(r\"C:\\Users\\User\\Documents\\PROFE_CHRISTIAN\\Hospitals-Access-Peru\\output\")\n",
    "OUT_DIR.mkdir(parents=True, exist_ok=True)\n",
    "print(\"OUT_DIR ->\", OUT_DIR)\n",
    "\n",
    "print(\"Usando shapefile de CCPP:\", RUTA_CCPP)\n",
    "OUT_DIR\n",
    "# Nombre de la columna de departamento en tu CCPP\n",
    "COL_DEP_CCPP = \"DEP\"\n"
   ]
  },
  {
   "cell_type": "code",
   "execution_count": 43,
   "id": "7ec43a73-3e16-4af8-9e90-e053b849332e",
   "metadata": {},
   "outputs": [
    {
     "name": "stdout",
     "output_type": "stream",
     "text": [
      "CRS: EPSG:4326\n",
      "Columnas: ['OBJECTID', 'NOM_POBLAD', 'FUENTE', 'CÓDIGO', 'CAT_POBLAD', 'DIST', 'PROV', 'DEP', 'CÓD_INT', 'CATEGORIA', 'X', 'Y', 'N_BUSQDA', 'geometry']\n"
     ]
    },
    {
     "data": {
      "text/plain": [
       "136587"
      ]
     },
     "execution_count": 43,
     "metadata": {},
     "output_type": "execute_result"
    }
   ],
   "source": [
    "# Verificar que el shapefile existe y listar columnas (por si luego necesitamos la de Departamento)\n",
    "import geopandas as gpd\n",
    "gdf_tmp = gpd.read_file(RUTA_CCPP)\n",
    "print(\"CRS:\", gdf_tmp.crs)\n",
    "print(\"Columnas:\", gdf_tmp.columns.tolist()[:20])\n",
    "len(gdf_tmp)\n"
   ]
  },
  {
   "cell_type": "markdown",
   "id": "cf1355f2",
   "metadata": {},
   "source": [
    "\n",
    "## Funciones base\n"
   ]
  },
  {
   "cell_type": "code",
   "execution_count": 44,
   "id": "028bf05a",
   "metadata": {},
   "outputs": [],
   "source": [
    "\n",
    "def leer_centros_poblados(path: str, layer: str|None=None, col_dep_override: str|None=None) -> gpd.GeoDataFrame:\n",
    "    import os\n",
    "    if not path or not os.path.exists(path):\n",
    "        raise FileNotFoundError(f\"No encuentro Centros Poblados en: {path}\")\n",
    "\n",
    "    # Leer .gpkg o .shp\n",
    "    if path.lower().endswith(\".gpkg\"):\n",
    "        if not layer:\n",
    "            import fiona\n",
    "            raise ValueError(f\"Para .gpkg define CAPA_CCPP. Capas: {fiona.listlayers(path)}\")\n",
    "        gdf = gpd.read_file(path, layer=layer)\n",
    "    else:\n",
    "        gdf = gpd.read_file(path)\n",
    "\n",
    "    # 1) Detectar columna de Departamento (permite override)\n",
    "    if col_dep_override and col_dep_override in gdf.columns:\n",
    "        col_dep = col_dep_override\n",
    "    else:\n",
    "        candidatos = [\n",
    "            \"DEPARTAMENTO\",\"DEPARTAMEN\",\"DEPARTAM\",\"NOMBDEP\",\"REGION\",\n",
    "            \"shapeName\",\"NAME_1\",\"DPTO\",\"DEPTNAME\",\"DEP\"  # <-- agregado 'DEP'\n",
    "        ]\n",
    "        col_dep = next((c for c in candidatos if c in gdf.columns), None)\n",
    "        if not col_dep:\n",
    "            raise KeyError(f\"No encuentro columna de Departamento en CCPP. Columnas: {list(gdf.columns)}\")\n",
    "\n",
    "    gdf = gdf.rename(columns={col_dep: \"Departamento\"})\n",
    "\n",
    "    # 2) Geometría a puntos (si no lo fueran)\n",
    "    if gdf.geom_type.iloc[0].upper() != \"POINT\":\n",
    "        gdf[\"geometry\"] = gdf.geometry.centroid\n",
    "\n",
    "    # 3) Normalización y CRS\n",
    "    gdf[\"DEP_NORM\"] = gdf[\"Departamento\"].map(_norm_txt)\n",
    "    gdf = gdf[gdf.geometry.notna()].copy()\n",
    "    gdf = gdf.set_crs(4326, allow_override=True) if gdf.crs is None else gdf.to_crs(4326)\n",
    "    return gdf\n",
    "\n"
   ]
  },
  {
   "cell_type": "markdown",
   "id": "a2c065a4",
   "metadata": {},
   "source": [
    "\n",
    "## Cargar datos (IPRESS + CCPP)\n"
   ]
  },
  {
   "cell_type": "code",
   "execution_count": 45,
   "id": "97d1a879",
   "metadata": {},
   "outputs": [
    {
     "data": {
      "text/plain": [
       "(279,\n",
       " <Geographic 2D CRS: EPSG:4326>\n",
       " Name: WGS 84\n",
       " Axis Info [ellipsoidal]:\n",
       " - Lat[north]: Geodetic latitude (degree)\n",
       " - Lon[east]: Geodetic longitude (degree)\n",
       " Area of Use:\n",
       " - name: World.\n",
       " - bounds: (-180.0, -90.0, 180.0, 90.0)\n",
       " Datum: World Geodetic System 1984 ensemble\n",
       " - Ellipsoid: WGS 84\n",
       " - Prime Meridian: Greenwich,\n",
       " 136587,\n",
       " <Geographic 2D CRS: EPSG:4326>\n",
       " Name: WGS 84\n",
       " Axis Info [ellipsoidal]:\n",
       " - Lat[north]: Geodetic latitude (degree)\n",
       " - Lon[east]: Geodetic longitude (degree)\n",
       " Area of Use:\n",
       " - name: World.\n",
       " - bounds: (-180.0, -90.0, 180.0, 90.0)\n",
       " Datum: World Geodetic System 1984 ensemble\n",
       " - Ellipsoid: WGS 84\n",
       " - Prime Meridian: Greenwich)"
      ]
     },
     "execution_count": 45,
     "metadata": {},
     "output_type": "execute_result"
    }
   ],
   "source": [
    "\n",
    "ipress_raw = leer_ipress(URL_IPRESS if USAR_URL_IPRESS else None,\n",
    "                         RUTA_IPRESS_LOCAL if not USAR_URL_IPRESS else None)\n",
    "ipress_hosp = preparar_hospitales(filtrar_hospitales_operativos(ipress_raw))\n",
    "\n",
    "ccpp = leer_centros_poblados(RUTA_CCPP, CAPA_CCPP, col_dep_override=COL_DEP_CCPP)\n",
    "\n",
    "\n",
    "len(ipress_hosp), ipress_hosp.crs, len(ccpp), ccpp.crs\n"
   ]
  },
  {
   "cell_type": "markdown",
   "id": "b8e289cc",
   "metadata": {},
   "source": [
    "\n",
    "## Conteo de hospitales en 10 km\n"
   ]
  },
  {
   "cell_type": "code",
   "execution_count": 46,
   "id": "429606d7",
   "metadata": {},
   "outputs": [],
   "source": [
    "\n",
    "def contar_hospitales_en_radio(ccpp_region: gpd.GeoDataFrame,\n",
    "                               hosp_4326: gpd.GeoDataFrame,\n",
    "                               radio_metros: int = 10_000) -> gpd.GeoDataFrame:\n",
    "    ccpp_utm = ccpp_region.to_crs(32718)\n",
    "    if ccpp_utm.geom_type.iloc[0].upper() != \"POINT\":\n",
    "        ccpp_utm[\"geometry\"] = ccpp_utm.geometry.centroid\n",
    "    buffers = ccpp_utm.copy()\n",
    "    buffers[\"geometry\"] = ccpp_utm.buffer(radio_metros)\n",
    "    hosp_utm = hosp_4326.to_crs(32718)\n",
    "    join = gpd.sjoin(hosp_utm[[\"geometry\"]], buffers[[\"geometry\"]], predicate=\"within\", how=\"left\")\n",
    "    conteos = join.groupby(join.index_right).size()\n",
    "    ccpp_utm[\"n_hospitales_10km\"] = ccpp_utm.index.map(conteos).fillna(0).astype(int)\n",
    "    ccpp_out = ccpp_utm.to_crs(4326)\n",
    "    buffers_out = buffers.to_crs(4326)\n",
    "    return ccpp_out, buffers_out\n"
   ]
  },
  {
   "cell_type": "markdown",
   "id": "382cbbc7",
   "metadata": {},
   "source": [
    "\n",
    "## Ejecutar para Lima y Loreto y generar mapas Folium\n"
   ]
  },
  {
   "cell_type": "code",
   "execution_count": 47,
   "id": "10f9bbe8",
   "metadata": {},
   "outputs": [
    {
     "name": "stdout",
     "output_type": "stream",
     "text": [
      "[LIMA] min=0 , max=34\n",
      "[LORETO] min=0 , max=4\n"
     ]
    },
    {
     "data": {
      "text/plain": [
       "[{'dep': 'LIMA',\n",
       "  'tabla': 'C:\\\\Users\\\\User\\\\Documents\\\\PROFE_CHRISTIAN\\\\Hospitals-Access-Peru\\\\output\\\\lima_ccpp_conteo_10km.csv',\n",
       "  'html_min': 'C:\\\\Users\\\\User\\\\Documents\\\\PROFE_CHRISTIAN\\\\Hospitals-Access-Peru\\\\output\\\\lima_aislamiento_10km.html',\n",
       "  'html_max': 'C:\\\\Users\\\\User\\\\Documents\\\\PROFE_CHRISTIAN\\\\Hospitals-Access-Peru\\\\output\\\\lima_concentracion_10km.html',\n",
       "  'min_count': 0,\n",
       "  'max_count': 34},\n",
       " {'dep': 'LORETO',\n",
       "  'tabla': 'C:\\\\Users\\\\User\\\\Documents\\\\PROFE_CHRISTIAN\\\\Hospitals-Access-Peru\\\\output\\\\loreto_ccpp_conteo_10km.csv',\n",
       "  'html_min': 'C:\\\\Users\\\\User\\\\Documents\\\\PROFE_CHRISTIAN\\\\Hospitals-Access-Peru\\\\output\\\\loreto_aislamiento_10km.html',\n",
       "  'html_max': 'C:\\\\Users\\\\User\\\\Documents\\\\PROFE_CHRISTIAN\\\\Hospitals-Access-Peru\\\\output\\\\loreto_concentracion_10km.html',\n",
       "  'min_count': 0,\n",
       "  'max_count': 4}]"
      ]
     },
     "execution_count": 47,
     "metadata": {},
     "output_type": "execute_result"
    }
   ],
   "source": [
    "\n",
    "def analizar_departamento(dep_nombre: str,\n",
    "                          ccpp_all: gpd.GeoDataFrame,\n",
    "                          hosp_4326: gpd.GeoDataFrame,\n",
    "                          out_dir: str):\n",
    "    dep_norm = _norm_txt(dep_nombre)\n",
    "    ccpp_dep = ccpp_all[ccpp_all[\"DEP_NORM\"] == dep_norm].copy()\n",
    "    if ccpp_dep.empty:\n",
    "        raise ValueError(f\"No hay CCPP para el departamento: {dep_nombre}.\")\n",
    "    ccpp10, buf10 = contar_hospitales_en_radio(ccpp_dep, hosp_4326, 10_000)\n",
    "\n",
    "    idx_min = ccpp10[\"n_hospitales_10km\"].idxmin()\n",
    "    idx_max = ccpp10[\"n_hospitales_10km\"].idxmax()\n",
    "    c_min = ccpp10.loc[idx_min]\n",
    "    c_max = ccpp10.loc[idx_max]\n",
    "    print(f\"[{dep_nombre}] min={int(c_min['n_hospitales_10km'])} , max={int(c_max['n_hospitales_10km'])}\")\n",
    "\n",
    "    out_csv = os.path.join(out_dir, f\"{dep_norm.lower()}_ccpp_conteo_10km.csv\")\n",
    "    ccpp10.drop(columns=\"geometry\").to_csv(out_csv, index=False, encoding=\"utf-8\")\n",
    "\n",
    "    def _folium_caso(caso_row, titulo, fname):\n",
    "        lat = caso_row.geometry.y\n",
    "        lon = caso_row.geometry.x\n",
    "        m = folium.Map(location=[lat, lon], zoom_start=9, control_scale=True)\n",
    "        folium.Marker([lat, lon], tooltip=titulo, icon=folium.Icon(color=\"red\")).add_to(m)\n",
    "        folium.Circle([lat, lon], radius=10_000, fill=True, fill_opacity=0.1).add_to(m)\n",
    "        # Filtrar hospitales dentro del buffer en UTM\n",
    "        b_utm = gpd.GeoSeries([caso_row.geometry], crs=4326).to_crs(32718).buffer(10_000).iloc[0]\n",
    "        hosp_utm = hosp_4326.to_crs(32718)\n",
    "        inside_idx = hosp_utm[hosp_utm.within(b_utm)].index\n",
    "        hosp_inside = hosp_4326.loc[inside_idx]\n",
    "        for _, r in hosp_inside.iterrows():\n",
    "            folium.CircleMarker([r.geometry.y, r.geometry.x], radius=4, tooltip=\"Hospital\").add_to(m)\n",
    "        out_html = os.path.join(out_dir, fname)\n",
    "        m.save(out_html)\n",
    "        return out_html\n",
    "\n",
    "    h_min = _folium_caso(c_min, f\"{dep_nombre}: menor disponibilidad ({int(c_min['n_hospitales_10km'])})\", f\"{dep_norm.lower()}_aislamiento_10km.html\")\n",
    "    h_max = _folium_caso(c_max, f\"{dep_nombre}: mayor concentración ({int(c_max['n_hospitales_10km'])})\", f\"{dep_norm.lower()}_concentracion_10km.html\")\n",
    "\n",
    "    return {\"dep\": dep_nombre, \"tabla\": out_csv, \"html_min\": h_min, \"html_max\": h_max,\n",
    "            \"min_count\": int(c_min[\"n_hospitales_10km\"]), \"max_count\": int(c_max[\"n_hospitales_10km\"])}\n",
    "\n",
    "resultados = []\n",
    "for dep in DEPARTAMENTOS:\n",
    "    resultados.append(analizar_departamento(dep, ccpp, ipress_hosp, OUT_DIR))\n",
    "\n",
    "resultados\n"
   ]
  },
  {
   "cell_type": "code",
   "execution_count": null,
   "id": "9e6a87e5-4844-44a3-be3a-e8b69252d471",
   "metadata": {},
   "outputs": [],
   "source": []
  }
 ],
 "metadata": {
  "kernelspec": {
   "display_name": "Python (geoenv)",
   "language": "python",
   "name": "geoenv"
  },
  "language_info": {
   "codemirror_mode": {
    "name": "ipython",
    "version": 3
   },
   "file_extension": ".py",
   "mimetype": "text/x-python",
   "name": "python",
   "nbconvert_exporter": "python",
   "pygments_lexer": "ipython3",
   "version": "3.10.18"
  }
 },
 "nbformat": 4,
 "nbformat_minor": 5
}
