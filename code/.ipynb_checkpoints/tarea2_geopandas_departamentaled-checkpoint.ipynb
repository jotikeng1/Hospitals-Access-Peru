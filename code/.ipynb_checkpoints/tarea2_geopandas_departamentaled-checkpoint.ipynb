{
 "cells": [
  {
   "cell_type": "markdown",
   "id": "10f1771c",
   "metadata": {},
   "source": [
    "\n",
    "# Tarea 2 – Análisis geoespacial con GeoPandas (Nivel Departamental)\n",
    "\n",
    "**Objetivo:**  \n",
    "- Filtrar hospitales **operativos** (IPRESS – MINSA/SUSALUD).  \n",
    "- Mantener sólo coordenadas válidas (**latitud/longitud**).  \n",
    "- Agregar **número de hospitales por Departamento**.  \n",
    "- Identificar **departamento(s) con más y menos** hospitales.  \n",
    "- Presentar:\n",
    "  - **Tabla** (ordenada desc.),\n",
    "  - **Gráfico de barras** (matplotlib),\n",
    "  - **Mapa coroplético** a nivel departamental (GeoPandas, **EPSG:4326**).\n",
    "\n",
    "> En Perú, **latitud ~ [-18, 0]** y **longitud ~ [-81, -68]**. En el dataset suele venir `NORTE`/`ESTE`: por valores reales, **`NORTE ≈ longitud`** y **`ESTE ≈ latitud`**.\n"
   ]
  },
  {
   "cell_type": "code",
   "execution_count": 10,
   "id": "c1c5d99a",
   "metadata": {},
   "outputs": [],
   "source": [
    "\n",
    "# Imports\n",
    "import os, warnings\n",
    "import pandas as pd\n",
    "import geopandas as gpd\n",
    "import matplotlib.pyplot as plt\n",
    "\n",
    "pd.set_option(\"display.max_colwidth\", 120)\n",
    "warnings.filterwarnings(\"ignore\", category=UserWarning)\n"
   ]
  },
  {
   "cell_type": "markdown",
   "id": "771c0701",
   "metadata": {},
   "source": [
    "\n",
    "## Parámetros (ajusta rutas según tus archivos)\n",
    "- Si quieres usar la **URL** oficial de IPRESS, deja `USAR_URL_IPRESS = True`.\n",
    "- Si prefieres un **CSV local**, pon `USAR_URL_IPRESS = False` y define `RUTA_IPRESS_LOCAL`.\n",
    "- Usa **límites departamentales** si los tienes, o **distritos** y activa `PARTIR_DE_DISTRITOS = True` para hacer `dissolve`.\n"
   ]
  },
  {
   "cell_type": "code",
   "execution_count": 11,
   "id": "988d491b",
   "metadata": {},
   "outputs": [
    {
     "name": "stdout",
     "output_type": "stream",
     "text": [
      "Usando shapefile departamental: C:\\Users\\User\\Documents\\PROFE_CHRISTIAN\\Hospitals-Access-Peru\\code\\shape_file_departamentos\\geoBoundaries-PER-ADM1.shp\n"
     ]
    },
    {
     "data": {
      "text/plain": [
       "'C:\\\\Users\\\\User\\\\Documents\\\\PROFE_CHRISTIAN\\\\Hospitals-Access-Peru\\\\code\\\\salidas_tarea2'"
      ]
     },
     "execution_count": 11,
     "metadata": {},
     "output_type": "execute_result"
    }
   ],
   "source": [
    "# Parámetros\n",
    "import os, glob\n",
    "\n",
    "USAR_URL_IPRESS = True\n",
    "URL_IPRESS = \"https://datosabiertos.gob.pe/node/2998/download\"  # Fuente IPRESS (usada en Tarea 1)\n",
    "\n",
    "# Si usas archivo local, desactiva la URL y completa la ruta:\n",
    "RUTA_IPRESS_LOCAL = r\"C:\\ruta\\a\\tu\\IPRESS.csv\"\n",
    "\n",
    "# === Límites departamentales ===\n",
    "# Carpeta donde guardaste el shapefile de DEPARTAMENTOS (.shp + .dbf + .shx + .prj)\n",
    "CARPETA_DEP = r\"C:\\Users\\User\\Documents\\PROFE_CHRISTIAN\\Hospitals-Access-Peru\\code\\shape_file_departamentos\"\n",
    "\n",
    "# Detecta automáticamente el .shp dentro de la carpeta\n",
    "candidatos = glob.glob(os.path.join(CARPETA_DEP, \"*.shp\"))\n",
    "if not candidatos:\n",
    "    raise FileNotFoundError(f\"No se encontró ningún .shp dentro de: {CARPETA_DEP}\")\n",
    "\n",
    "# Si hay varios, intenta escoger el que contenga 'dep' o 'depart' en el nombre\n",
    "preferidos = [c for c in candidatos if any(k in os.path.basename(c).lower() for k in [\"dep\", \"depart\"])]\n",
    "RUTA_LIMITE_DEPARTAMENTAL = preferidos[0] if preferidos else candidatos[0]\n",
    "\n",
    "# No usaremos distritos (vamos directo con departamental)\n",
    "PARTIR_DE_DISTRITOS = False\n",
    "RUTA_DISTRITOS = r\"\"\n",
    "\n",
    "# Carpeta de salida\n",
    "OUT_DIR = os.path.abspath(\"./salidas_tarea2\")\n",
    "os.makedirs(OUT_DIR, exist_ok=True)\n",
    "\n",
    "print(\"Usando shapefile departamental:\", RUTA_LIMITE_DEPARTAMENTAL)\n",
    "OUT_DIR\n"
   ]
  },
  {
   "cell_type": "markdown",
   "id": "61e8b477",
   "metadata": {},
   "source": [
    "\n",
    "## 1) Cargar IPRESS (MINSA/SUSALUD) y validar lectura\n",
    "Se intenta con separador `,` y luego `;` usando `latin-1`. Si usas local, indica la ruta.\n"
   ]
  },
  {
   "cell_type": "code",
   "execution_count": 12,
   "id": "c0ec5d33",
   "metadata": {},
   "outputs": [
    {
     "data": {
      "text/plain": [
       "((20819, 33),\n",
       "          Institución  Código Único Nombre del establecimiento  \\\n",
       " 0            PRIVADO         16618                 SONRIE MAS   \n",
       " 1  GOBIERNO REGIONAL          7050                     AMBATO   \n",
       " 2  GOBIERNO REGIONAL            99  SANTA ISABEL DE YUMBATURO   \n",
       " \n",
       "                                                Clasificación  \\\n",
       " 0  CONSULTORIOS MEDICOS Y DE OTROS PROFESIONALES DE LA SALUD   \n",
       " 1                         PUESTOS DE SALUD O POSTAS DE SALUD   \n",
       " 2                         PUESTOS DE SALUD O POSTAS DE SALUD   \n",
       " \n",
       "                                          Tipo Departamento Provincia  \\\n",
       " 0  ESTABLECIMIENTO DE SALUD SIN INTERNAMIENTO         LIMA      LIMA   \n",
       " 1  ESTABLECIMIENTO DE SALUD SIN INTERNAMIENTO    CAJAMARCA   CUTERVO   \n",
       " 2  ESTABLECIMIENTO DE SALUD SIN INTERNAMIENTO       LORETO    LORETO   \n",
       " \n",
       "             Distrito  UBIGEO  \\\n",
       " 0  SANTIAGO DE SURCO  150140   \n",
       " 1         SANTA CRUZ   60611   \n",
       " 2           PARINARI  160302   \n",
       " \n",
       "                                                       Dirección  ...  \\\n",
       " 0  AV. CAMINOS DEL INCA 2028 OF.201, URBANIZACION LAS GARDENIAS  ...   \n",
       " 1                                           COMUNIDAD DE AMBATO  ...   \n",
       " 2                                                    ACTUALIZAR  ...   \n",
       " \n",
       "    Inicio de Actividad  \\\n",
       " 0           11/03/2013   \n",
       " 1           29/06/2006   \n",
       " 2           01/01/1900   \n",
       " \n",
       "    Director Médico y/o Responsable de la Atención de Salud    Estado  \\\n",
       " 0                          GILBERTO MARTIN AQUIJE GAVILAN   ACTIVADO   \n",
       " 1                                     IDELSO MENOR CHAVEZ   ACTIVADO   \n",
       " 2                             JULIO TONY CAITIMARI MACHOA   ACTIVADO   \n",
       " \n",
       "   Situación          Condición Inspección      NORTE      ESTE    COTA CAMAS  \n",
       " 0            EN FUNCIONAMIENTO                   NaN       NaN     NaN   NaN  \n",
       " 1            EN FUNCIONAMIENTO            -78.858380 -6.133523  1724.0   NaN  \n",
       " 2            EN FUNCIONAMIENTO            -74.258139 -4.581509   124.0   NaN  \n",
       " \n",
       " [3 rows x 33 columns])"
      ]
     },
     "execution_count": 12,
     "metadata": {},
     "output_type": "execute_result"
    }
   ],
   "source": [
    "\n",
    "def leer_ipress(url: str | None, local_path: str | None) -> pd.DataFrame:\n",
    "    if url and USAR_URL_IPRESS:\n",
    "        for sep in (\",\", \";\"):\n",
    "            try:\n",
    "                df = pd.read_csv(url, sep=sep, encoding=\"latin-1\", low_memory=False)\n",
    "                if df.shape[1] >= 5:\n",
    "                    return df\n",
    "            except Exception:\n",
    "                pass\n",
    "        raise RuntimeError(\"No pude leer IPRESS desde la URL con ',' ni ';'.\")\n",
    "    else:\n",
    "        if not local_path or not os.path.exists(local_path):\n",
    "            raise FileNotFoundError(\"Define RUTA_IPRESS_LOCAL correctamente.\")\n",
    "        return pd.read_csv(local_path, encoding=\"latin-1\", low_memory=False)\n",
    "\n",
    "ipress_raw = leer_ipress(URL_IPRESS if USAR_URL_IPRESS else None,\n",
    "                         RUTA_IPRESS_LOCAL if not USAR_URL_IPRESS else None)\n",
    "\n",
    "ipress_raw.shape, ipress_raw.head(3)\n"
   ]
  },
  {
   "cell_type": "markdown",
   "id": "c5555302",
   "metadata": {},
   "source": [
    "\n",
    "## 2) Filtrar **hospitales** en **operación** y mantener coordenadas válidas\n",
    "- Operativos: `Condición` contiene \"FUNCION\" **o** `Estado` contiene \"ACTIV\".\n",
    "- Clasificación: debe contener \"HOSPITAL\".\n",
    "- Columnas clave y renombre **NORTE→longitud**, **ESTE→latitud**.\n",
    "- `UBIGEO` como texto de 6 dígitos.\n"
   ]
  },
  {
   "cell_type": "code",
   "execution_count": 13,
   "id": "ac635095",
   "metadata": {},
   "outputs": [
    {
     "name": "stdout",
     "output_type": "stream",
     "text": [
      "Filas filtradas: 279\n"
     ]
    },
    {
     "data": {
      "text/html": [
       "<div>\n",
       "<style scoped>\n",
       "    .dataframe tbody tr th:only-of-type {\n",
       "        vertical-align: middle;\n",
       "    }\n",
       "\n",
       "    .dataframe tbody tr th {\n",
       "        vertical-align: top;\n",
       "    }\n",
       "\n",
       "    .dataframe thead th {\n",
       "        text-align: right;\n",
       "    }\n",
       "</style>\n",
       "<table border=\"1\" class=\"dataframe\">\n",
       "  <thead>\n",
       "    <tr style=\"text-align: right;\">\n",
       "      <th></th>\n",
       "      <th>Departamento</th>\n",
       "      <th>Provincia</th>\n",
       "      <th>Distrito</th>\n",
       "      <th>latitud</th>\n",
       "      <th>longitud</th>\n",
       "    </tr>\n",
       "  </thead>\n",
       "  <tbody>\n",
       "    <tr>\n",
       "      <th>17</th>\n",
       "      <td>PUNO</td>\n",
       "      <td>AZANGARO</td>\n",
       "      <td>AZANGARO</td>\n",
       "      <td>-14.904143</td>\n",
       "      <td>-70.199339</td>\n",
       "    </tr>\n",
       "    <tr>\n",
       "      <th>35</th>\n",
       "      <td>ANCASH</td>\n",
       "      <td>CARHUAZ</td>\n",
       "      <td>CARHUAZ</td>\n",
       "      <td>-9.277484</td>\n",
       "      <td>-77.649385</td>\n",
       "    </tr>\n",
       "    <tr>\n",
       "      <th>52</th>\n",
       "      <td>LA LIBERTAD</td>\n",
       "      <td>ASCOPE</td>\n",
       "      <td>ASCOPE</td>\n",
       "      <td>-7.714237</td>\n",
       "      <td>-79.101259</td>\n",
       "    </tr>\n",
       "  </tbody>\n",
       "</table>\n",
       "</div>"
      ],
      "text/plain": [
       "   Departamento Provincia  Distrito    latitud   longitud\n",
       "17         PUNO  AZANGARO  AZANGARO -14.904143 -70.199339\n",
       "35       ANCASH   CARHUAZ   CARHUAZ  -9.277484 -77.649385\n",
       "52  LA LIBERTAD    ASCOPE    ASCOPE  -7.714237 -79.101259"
      ]
     },
     "execution_count": 13,
     "metadata": {},
     "output_type": "execute_result"
    }
   ],
   "source": [
    "\n",
    "def filtrar_hospitales_operativos(df: pd.DataFrame) -> pd.DataFrame:\n",
    "    mask_operativo = df[\"Condición\"].astype(str).str.contains(\"FUNCION\", case=False, na=False) | \\\n",
    "                     df[\"Estado\"].astype(str).str.contains(\"ACTIV\", case=False, na=False)\n",
    "    mask_hospital  = df[\"Clasificación\"].astype(str).str.contains(\"HOSPITAL\", case=False, na=False)\n",
    "    return df.loc[mask_operativo & mask_hospital].copy()\n",
    "\n",
    "def seleccionar_columnas_y_coords(df: pd.DataFrame) -> pd.DataFrame:\n",
    "    cols = [\"Institución\",\"Nombre del establecimiento\",\"Clasificación\",\"UBIGEO\",\n",
    "            \"Departamento\",\"Provincia\",\"Distrito\",\"Estado\",\"NORTE\",\"ESTE\"]\n",
    "    out = df.loc[:, cols].copy()\n",
    "    # NORTE ≈ longitud | ESTE ≈ latitud\n",
    "    out = out.rename(columns={\"NORTE\": \"longitud\", \"ESTE\": \"latitud\"})\n",
    "    # Coordenadas válidas\n",
    "    m_geo = out[\"latitud\"].notna() & out[\"longitud\"].notna() & (out[\"latitud\"] != 0) & (out[\"longitud\"] != 0)\n",
    "    out = out.loc[m_geo].copy()\n",
    "    # UBIGEO 6 dígitos\n",
    "    out[\"UBIGEO\"] = (out[\"UBIGEO\"].astype(str).str.replace(r\"\\D\", \"\", regex=True).str.zfill(6))\n",
    "    return out\n",
    "\n",
    "ipress_hosp = filtrar_hospitales_operativos(ipress_raw)\n",
    "ipress_hosp = seleccionar_columnas_y_coords(ipress_hosp)\n",
    "\n",
    "print(\"Filas filtradas:\", len(ipress_hosp))\n",
    "ipress_hosp[[\"Departamento\",\"Provincia\",\"Distrito\",\"latitud\",\"longitud\"]].head(3)\n"
   ]
  },
  {
   "cell_type": "code",
   "execution_count": 14,
   "id": "6a84562d",
   "metadata": {},
   "outputs": [
    {
     "name": "stdout",
     "output_type": "stream",
     "text": [
      "latitud min/max: -18.017545 -3.55560167\n",
      "longitud min/max: -81.27384046 -69.090335\n"
     ]
    }
   ],
   "source": [
    "\n",
    "# Chequeo rápido de rangos: lat/long en Perú\n",
    "print(\"latitud min/max:\", ipress_hosp[\"latitud\"].min(), ipress_hosp[\"latitud\"].max())\n",
    "print(\"longitud min/max:\", ipress_hosp[\"longitud\"].min(), ipress_hosp[\"longitud\"].max())\n"
   ]
  },
  {
   "cell_type": "markdown",
   "id": "d6c913b1",
   "metadata": {},
   "source": [
    "\n",
    "## 3) Agregado por **Departamento** (tabla) e identificación de extremos\n"
   ]
  },
  {
   "cell_type": "code",
   "execution_count": 15,
   "id": "4692fd8f",
   "metadata": {},
   "outputs": [
    {
     "name": "stdout",
     "output_type": "stream",
     "text": [
      "Departamento(s) con MÁS hospitales (n=50): LIMA\n",
      "Departamento(s) con MENOS hospitales (n=3): TACNA\n"
     ]
    },
    {
     "data": {
      "text/html": [
       "<div>\n",
       "<style scoped>\n",
       "    .dataframe tbody tr th:only-of-type {\n",
       "        vertical-align: middle;\n",
       "    }\n",
       "\n",
       "    .dataframe tbody tr th {\n",
       "        vertical-align: top;\n",
       "    }\n",
       "\n",
       "    .dataframe thead th {\n",
       "        text-align: right;\n",
       "    }\n",
       "</style>\n",
       "<table border=\"1\" class=\"dataframe\">\n",
       "  <thead>\n",
       "    <tr style=\"text-align: right;\">\n",
       "      <th></th>\n",
       "      <th>Departamento</th>\n",
       "      <th>n_hospitales</th>\n",
       "    </tr>\n",
       "  </thead>\n",
       "  <tbody>\n",
       "    <tr>\n",
       "      <th>14</th>\n",
       "      <td>LIMA</td>\n",
       "      <td>50</td>\n",
       "    </tr>\n",
       "    <tr>\n",
       "      <th>12</th>\n",
       "      <td>LA LIBERTAD</td>\n",
       "      <td>33</td>\n",
       "    </tr>\n",
       "    <tr>\n",
       "      <th>1</th>\n",
       "      <td>ANCASH</td>\n",
       "      <td>17</td>\n",
       "    </tr>\n",
       "    <tr>\n",
       "      <th>20</th>\n",
       "      <td>PUNO</td>\n",
       "      <td>14</td>\n",
       "    </tr>\n",
       "    <tr>\n",
       "      <th>11</th>\n",
       "      <td>JUNIN</td>\n",
       "      <td>13</td>\n",
       "    </tr>\n",
       "    <tr>\n",
       "      <th>3</th>\n",
       "      <td>AREQUIPA</td>\n",
       "      <td>12</td>\n",
       "    </tr>\n",
       "    <tr>\n",
       "      <th>19</th>\n",
       "      <td>PIURA</td>\n",
       "      <td>12</td>\n",
       "    </tr>\n",
       "    <tr>\n",
       "      <th>21</th>\n",
       "      <td>SAN MARTIN</td>\n",
       "      <td>11</td>\n",
       "    </tr>\n",
       "    <tr>\n",
       "      <th>4</th>\n",
       "      <td>AYACUCHO</td>\n",
       "      <td>11</td>\n",
       "    </tr>\n",
       "    <tr>\n",
       "      <th>5</th>\n",
       "      <td>CAJAMARCA</td>\n",
       "      <td>11</td>\n",
       "    </tr>\n",
       "  </tbody>\n",
       "</table>\n",
       "</div>"
      ],
      "text/plain": [
       "   Departamento  n_hospitales\n",
       "14         LIMA            50\n",
       "12  LA LIBERTAD            33\n",
       "1        ANCASH            17\n",
       "20         PUNO            14\n",
       "11        JUNIN            13\n",
       "3      AREQUIPA            12\n",
       "19        PIURA            12\n",
       "21   SAN MARTIN            11\n",
       "4      AYACUCHO            11\n",
       "5     CAJAMARCA            11"
      ]
     },
     "execution_count": 15,
     "metadata": {},
     "output_type": "execute_result"
    }
   ],
   "source": [
    "\n",
    "def agregar_por_departamento(df: pd.DataFrame) -> pd.DataFrame:\n",
    "    return (\n",
    "        df.groupby(\"Departamento\", as_index=False)\n",
    "          .size()\n",
    "          .rename(columns={\"size\":\"n_hospitales\"})\n",
    "          .sort_values(\"n_hospitales\", ascending=False)\n",
    "    )\n",
    "\n",
    "dep_resumen = agregar_por_departamento(ipress_hosp)\n",
    "\n",
    "max_n = dep_resumen[\"n_hospitales\"].max()\n",
    "min_n = dep_resumen[\"n_hospitales\"].min()\n",
    "dep_max = dep_resumen.loc[dep_resumen[\"n_hospitales\"] == max_n, \"Departamento\"].tolist()\n",
    "dep_min = dep_resumen.loc[dep_resumen[\"n_hospitales\"] == min_n, \"Departamento\"].tolist()\n",
    "\n",
    "print(\"Departamento(s) con MÁS hospitales (n={}): {}\".format(max_n, \", \".join(dep_max)))\n",
    "print(\"Departamento(s) con MENOS hospitales (n={}): {}\".format(min_n, \", \".join(dep_min)))\n",
    "\n",
    "dep_resumen.head(10)\n"
   ]
  },
  {
   "cell_type": "code",
   "execution_count": 16,
   "id": "b84886a4",
   "metadata": {},
   "outputs": [
    {
     "data": {
      "text/plain": [
       "'C:\\\\Users\\\\User\\\\Documents\\\\PROFE_CHRISTIAN\\\\Hospitals-Access-Peru\\\\code\\\\salidas_tarea2\\\\resumen_departamental_hospitales.csv'"
      ]
     },
     "execution_count": 16,
     "metadata": {},
     "output_type": "execute_result"
    }
   ],
   "source": [
    "\n",
    "# Exportar tabla resumen\n",
    "out_csv = os.path.join(OUT_DIR, \"resumen_departamental_hospitales.csv\")\n",
    "dep_resumen.to_csv(out_csv, index=False, encoding=\"utf-8\")\n",
    "out_csv\n"
   ]
  },
  {
   "cell_type": "markdown",
   "id": "c880bd04",
   "metadata": {},
   "source": [
    "\n",
    "## 4) Gráfico de barras (matplotlib)\n"
   ]
  },
  {
   "cell_type": "code",
   "execution_count": 17,
   "id": "8f00d378",
   "metadata": {},
   "outputs": [
    {
     "data": {
      "image/png": "[encoded data removed]",
      "text/plain": [
       "<Figure size 640x480 with 1 Axes>"
      ]
     },
     "metadata": {},
     "output_type": "display_data"
    },
    {
     "data": {
      "text/plain": [
       "'C:\\\\Users\\\\User\\\\Documents\\\\PROFE_CHRISTIAN\\\\Hospitals-Access-Peru\\\\code\\\\salidas_tarea2\\\\barras_departamentos.png'"
      ]
     },
     "execution_count": 17,
     "metadata": {},
     "output_type": "execute_result"
    }
   ],
   "source": [
    "\n",
    "plt.figure()\n",
    "plt.bar(dep_resumen[\"Departamento\"], dep_resumen[\"n_hospitales\"])\n",
    "plt.xticks(rotation=90)\n",
    "plt.title(\"Total de hospitales públicos operativos por departamento\")\n",
    "plt.xlabel(\"Departamento\")\n",
    "plt.ylabel(\"N° hospitales\")\n",
    "plt.tight_layout()\n",
    "out_barras = os.path.join(OUT_DIR, \"barras_departamentos.png\")\n",
    "plt.savefig(out_barras, dpi=200)\n",
    "plt.show()\n",
    "\n",
    "out_barras\n"
   ]
  },
  {
   "cell_type": "markdown",
   "id": "9125d12c",
   "metadata": {},
   "source": [
    "\n",
    "## 5) Mapa coroplético a nivel departamental\n",
    "- Cargar **límites departamentales** (o **distritos** y `dissolve`).\n",
    "- Asegurar **CRS EPSG:4326**.\n",
    "- `merge` con `dep_resumen` y plot.\n"
   ]
  },
  {
   "cell_type": "code",
   "execution_count": 20,
   "id": "0445e3a9-87b5-4b2a-9667-66afa52a0439",
   "metadata": {},
   "outputs": [
    {
     "name": "stdout",
     "output_type": "stream",
     "text": [
      "['shapeName', 'shapeISO', 'shapeID', 'shapeGroup', 'shapeType', 'geometry']\n"
     ]
    },
    {
     "data": {
      "text/html": [
       "<div>\n",
       "<style scoped>\n",
       "    .dataframe tbody tr th:only-of-type {\n",
       "        vertical-align: middle;\n",
       "    }\n",
       "\n",
       "    .dataframe tbody tr th {\n",
       "        vertical-align: top;\n",
       "    }\n",
       "\n",
       "    .dataframe thead th {\n",
       "        text-align: right;\n",
       "    }\n",
       "</style>\n",
       "<table border=\"1\" class=\"dataframe\">\n",
       "  <thead>\n",
       "    <tr style=\"text-align: right;\">\n",
       "      <th></th>\n",
       "      <th>shapeName</th>\n",
       "      <th>shapeISO</th>\n",
       "      <th>shapeID</th>\n",
       "      <th>shapeGroup</th>\n",
       "      <th>shapeType</th>\n",
       "      <th>geometry</th>\n",
       "    </tr>\n",
       "  </thead>\n",
       "  <tbody>\n",
       "    <tr>\n",
       "      <th>0</th>\n",
       "      <td>Puno</td>\n",
       "      <td>PE-PUN</td>\n",
       "      <td>1875124B3772980127380</td>\n",
       "      <td>PER</td>\n",
       "      <td>ADM1</td>\n",
       "      <td>POLYGON ((-69.58 -17.303, -69.612 -17.308, -69.635 -17.296, -69.666 -17.299, -69.696 -17.302, -69.719 -17.314, -69.7...</td>\n",
       "    </tr>\n",
       "    <tr>\n",
       "      <th>1</th>\n",
       "      <td>Tumbes</td>\n",
       "      <td>PE-TUM</td>\n",
       "      <td>1875124B82769317880582</td>\n",
       "      <td>PER</td>\n",
       "      <td>ADM1</td>\n",
       "      <td>POLYGON ((-80.494 -4.0729, -80.519 -4.0913, -80.571 -4.1508, -80.591 -4.1824, -80.621 -4.2085, -80.651 -4.2085, -80....</td>\n",
       "    </tr>\n",
       "  </tbody>\n",
       "</table>\n",
       "</div>"
      ],
      "text/plain": [
       "  shapeName shapeISO                 shapeID shapeGroup shapeType  \\\n",
       "0      Puno   PE-PUN   1875124B3772980127380        PER      ADM1   \n",
       "1    Tumbes   PE-TUM  1875124B82769317880582        PER      ADM1   \n",
       "\n",
       "                                                                                                                  geometry  \n",
       "0  POLYGON ((-69.58 -17.303, -69.612 -17.308, -69.635 -17.296, -69.666 -17.299, -69.696 -17.302, -69.719 -17.314, -69.7...  \n",
       "1  POLYGON ((-80.494 -4.0729, -80.519 -4.0913, -80.571 -4.1508, -80.591 -4.1824, -80.621 -4.2085, -80.651 -4.2085, -80....  "
      ]
     },
     "execution_count": 20,
     "metadata": {},
     "output_type": "execute_result"
    }
   ],
   "source": [
    "import geopandas as gpd\n",
    "gdf_test = gpd.read_file(RUTA_LIMITE_DEPARTAMENTAL)\n",
    "print(gdf_test.columns.tolist())\n",
    "gdf_test.head(2)\n"
   ]
  },
  {
   "cell_type": "code",
   "execution_count": 22,
   "id": "c005d406",
   "metadata": {},
   "outputs": [
    {
     "name": "stdout",
     "output_type": "stream",
     "text": [
      "Departamentos sin match: 6\n",
      "                       Departamento\n",
      "                          ApurÃ­mac\n",
      "                          El Callao\n",
      "                           HuÃ¡nuco\n",
      "                             JunÃ­n\n",
      "Municipalidad Metropolitana de Lima\n",
      "                        San MartÃ­n\n"
     ]
    },
    {
     "data": {
      "image/png": "[encoded data removed]",
      "text/plain": [
       "<Figure size 640x480 with 2 Axes>"
      ]
     },
     "metadata": {},
     "output_type": "display_data"
    },
    {
     "data": {
      "text/plain": [
       "'C:\\\\Users\\\\User\\\\Documents\\\\PROFE_CHRISTIAN\\\\Hospitals-Access-Peru\\\\code\\\\salidas_tarea2\\\\mapa_departamental_coropletico.png'"
      ]
     },
     "execution_count": 22,
     "metadata": {},
     "output_type": "execute_result"
    }
   ],
   "source": [
    "import os, unicodedata\n",
    "import pandas as pd\n",
    "import geopandas as gpd\n",
    "import matplotlib.pyplot as plt\n",
    "\n",
    "# --- utilidades ---\n",
    "def asegurar_crs_wgs84(gdf: gpd.GeoDataFrame) -> gpd.GeoDataFrame:\n",
    "    if gdf.crs is None:\n",
    "        gdf = gdf.set_crs(4326)\n",
    "    else:\n",
    "        gdf = gdf.to_crs(4326)\n",
    "    return gdf\n",
    "\n",
    "def _norm_dep(s) -> str:\n",
    "    if s is None or (isinstance(s, float) and pd.isna(s)):\n",
    "        return \"\"\n",
    "    # quita acentos y pasa a mayúsculas\n",
    "    s = str(s).strip()\n",
    "    s = ''.join(ch for ch in unicodedata.normalize('NFKD', s) if not unicodedata.combining(ch))\n",
    "    return s.upper()\n",
    "\n",
    "# --- 1) leer el shapefile departamental ---\n",
    "gdf_dep = gpd.read_file(RUTA_LIMITE_DEPARTAMENTAL)\n",
    "\n",
    "# Tu shapefile usa 'shapeName' para el nombre del departamento\n",
    "if \"shapeName\" in gdf_dep.columns:\n",
    "    gdf_dep = gdf_dep.rename(columns={\"shapeName\": \"Departamento\"})\n",
    "else:\n",
    "    # fallback por si usas otro shape en el futuro\n",
    "    posibles = [\"DEPARTAMENTO\",\"DEPARTAMEN\",\"NOMBDEP\",\"NAME_1\",\"NOMBRE\",\"NOMDEP\",\"DEPTO\"]\n",
    "    col_dep = next((c for c in posibles if c in gdf_dep.columns), None)\n",
    "    if not col_dep:\n",
    "        raise KeyError(f\"No encuentro columna de Departamento. Columnas: {list(gdf_dep.columns)}\")\n",
    "    gdf_dep = gdf_dep.rename(columns={col_dep: \"Departamento\"})\n",
    "\n",
    "gdf_dep = gdf_dep[[\"Departamento\", \"geometry\"]].copy()\n",
    "gdf_dep = asegurar_crs_wgs84(gdf_dep)\n",
    "\n",
    "# --- 2) normalizar nombres en ambos dataframes antes del merge ---\n",
    "gdf_dep[\"DEP_NORM\"] = gdf_dep[\"Departamento\"].map(_norm_dep)\n",
    "dep_resumen = dep_resumen.copy()\n",
    "dep_resumen[\"DEP_NORM\"] = dep_resumen[\"Departamento\"].map(_norm_dep)\n",
    "\n",
    "# --- 3) merge por nombre normalizado ---\n",
    "gdf_dep = gdf_dep.merge(dep_resumen[[\"DEP_NORM\",\"n_hospitales\"]], on=\"DEP_NORM\", how=\"left\")\n",
    "\n",
    "# diagnostiquemos posibles no empates ANTES de rellenar\n",
    "faltantes = gdf_dep[gdf_dep[\"n_hospitales\"].isna()][[\"Departamento\"]]\n",
    "print(\"Departamentos sin match:\", len(faltantes))\n",
    "if len(faltantes):\n",
    "    print(faltantes.sort_values(\"Departamento\").to_string(index=False))\n",
    "\n",
    "gdf_dep[\"n_hospitales\"] = gdf_dep[\"n_hospitales\"].fillna(0).astype(int)\n",
    "\n",
    "# --- 4) mapa ---\n",
    "ax = gdf_dep.plot(column=\"n_hospitales\", legend=True, edgecolor=\"black\", linewidth=0.3)\n",
    "ax.set_title(\"Hospitales públicos operativos por departamento\")\n",
    "ax.set_axis_off()\n",
    "plt.tight_layout()\n",
    "out_map = os.path.join(OUT_DIR, \"mapa_departamental_coropletico.png\")\n",
    "plt.savefig(out_map, dpi=200)\n",
    "plt.show()\n",
    "\n",
    "out_map\n"
   ]
  },
  {
   "cell_type": "markdown",
   "id": "de0ec7d0",
   "metadata": {},
   "source": [
    "\n"
   ]
  }
 ],
 "metadata": {
  "kernelspec": {
   "display_name": "Python (geoenv)",
   "language": "python",
   "name": "geoenv"
  },
  "language_info": {
   "codemirror_mode": {
    "name": "ipython",
    "version": 3
   },
   "file_extension": ".py",
   "mimetype": "text/x-python",
   "name": "python",
   "nbconvert_exporter": "python",
   "pygments_lexer": "ipython3",
   "version": "3.10.18"
  }
 },
 "nbformat": 4,
 "nbformat_minor": 5
}
